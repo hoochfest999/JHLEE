{
 "cells": [
  {
   "cell_type": "markdown",
   "metadata": {},
   "source": [
    "a라는 리스트의 자료들을 변수 i에 대입한 후 i를 프린트한다. for 제어문은 항상 :을 써줘야한다. for 제어문에 해당하는 부분은 항상 tab 해줄 것."
   ]
  },
  {
   "cell_type": "code",
   "execution_count": 3,
   "metadata": {},
   "outputs": [
    {
     "name": "stdout",
     "output_type": "stream",
     "text": [
      "1\n",
      "2\n",
      "3\n",
      "4\n"
     ]
    }
   ],
   "source": [
    "a = [1, 2, 3, 4]\n",
    "for i in a :\n",
    "    print(i)"
   ]
  },
  {
   "cell_type": "markdown",
   "metadata": {},
   "source": [
    "네번째 줄의 b = 1;은 for 제어문에 포함되지 않는다. tab 되어 있지 않기 때문이다."
   ]
  },
  {
   "cell_type": "code",
   "execution_count": 4,
   "metadata": {},
   "outputs": [
    {
     "name": "stdout",
     "output_type": "stream",
     "text": [
      "1\n",
      "2\n",
      "3\n",
      "4\n"
     ]
    }
   ],
   "source": [
    "a = [1, 2, 3, 4]\n",
    "for i in a :\n",
    "    print(i)\n",
    "b = 1;\n"
   ]
  },
  {
   "cell_type": "markdown",
   "metadata": {},
   "source": [
    "len(x)함수는 x라는 문자열의 길이를 알려주는 함수다. "
   ]
  },
  {
   "cell_type": "code",
   "execution_count": 5,
   "metadata": {},
   "outputs": [
    {
     "data": {
      "text/plain": [
       "4"
      ]
     },
     "execution_count": 5,
     "metadata": {},
     "output_type": "execute_result"
    }
   ],
   "source": [
    "len(a)"
   ]
  },
  {
   "cell_type": "markdown",
   "metadata": {},
   "source": [
    "range(4)는 0부터 4미만의 값을 모아주는 함수다. 따라서 range(4)는 0, 1, 2, 3이 된다.\n",
    "i라는 변수에 0, 1, 2, 3을 넣어주고, a[i]를 프린트한다. -> a[0], a[1], a[2], a[3] 이 출력된다."
   ]
  },
  {
   "cell_type": "code",
   "execution_count": 7,
   "metadata": {},
   "outputs": [
    {
     "name": "stdout",
     "output_type": "stream",
     "text": [
      "1\n",
      "2\n",
      "3\n",
      "4\n"
     ]
    }
   ],
   "source": [
    "a =  [1, 2, 3, 4]\n",
    "for i in range(4):\n",
    "    print(a[i])\n",
    "    "
   ]
  },
  {
   "cell_type": "markdown",
   "metadata": {},
   "source": [
    "a, b 리스트가 개수가 같음. 예) a와 b가 pair로 되어있다고 가정. red = 0.2 , green = 0.3 , blue = 0.1 , purple = 0.4 이런식으로... for 루프를 돌려서 a와 b를 한번에 clean out 하고 싶을때? enumerate라는 함수를 사용한다. enumerate함수를 쓰면 i에는 0, 1, 2, 3 을 주고, a는 그대로 a값을 주어줌. enumerate: 순서 숫자를 부여해주는 역할.\n",
    "format을 쓰면 .format 뒤의 a와 b[i]* 100 이 앞의 중괄호 안에 각각 들어감. for 루프가 총 네번을 돌아감. a의 개수가 네개니까. 첫번째 루프 i = 0, a = red -> b[0] = 0.2 첫번째 루프의 값: 20*red"
   ]
  },
  {
   "cell_type": "code",
   "execution_count": 8,
   "metadata": {},
   "outputs": [
    {
     "name": "stdout",
     "output_type": "stream",
     "text": [
      "red: 20.0%\n",
      "green: 30.0%\n",
      "blue: 10.0%\n",
      "purple: 40.0%\n"
     ]
    }
   ],
   "source": [
    "a = [\"red\", \"green\", \"blue\", \"purple\"]\n",
    "b = [0.2, 0.3, 0.1, 0.4]\n",
    "for i, a in enumerate(a):\n",
    "    print(\"{}: {}%\".format(a, b[i]*100))"
   ]
  },
  {
   "cell_type": "markdown",
   "metadata": {},
   "source": [
    "두개의 pairwise list일 때 a,b를 zip해서 같은 index로 묶어버린다.\n",
    "첫번째 루프> a: red. b: 0.2 가 각각 a_, b_로 들어간다.-> format(red, 0.2 * 100) 앞의 중괄호에 각각 들어간다. 첫번째 루프의 값 = red: 20.0%"
   ]
  },
  {
   "cell_type": "code",
   "execution_count": 9,
   "metadata": {},
   "outputs": [
    {
     "name": "stdout",
     "output_type": "stream",
     "text": [
      "red: 20.0%\n",
      "green: 30.0%\n",
      "blue: 10.0%\n",
      "purple: 40.0%\n"
     ]
    }
   ],
   "source": [
    "a = [\"red\", \"green\", \"blue\", \"purple\"]\n",
    "b = [0.2, 0.3, 0.1, 0.4]\n",
    "for a_, b_ in zip(a, b):\n",
    "    print(\"{}: {}%\".format(a_, b_*100))"
   ]
  },
  {
   "cell_type": "markdown",
   "metadata": {},
   "source": [
    "변수지정에는 = 하나. 동등함을 나타낼 때는 == 두개를 쓴다.그리고 if절과 else절에: 을 적어야함. 똑같이 내용에 해당되는 부분은 tab으로 정리해줘야 한다. a가 0이라면 a를 프린트하고, 그게 아니라면 a 에 1을 더해라. a에 0을 넣었으니까 바로 프린트.\n"
   ]
  },
  {
   "cell_type": "code",
   "execution_count": 10,
   "metadata": {},
   "outputs": [
    {
     "name": "stdout",
     "output_type": "stream",
     "text": [
      "0\n"
     ]
    }
   ],
   "source": [
    "a = 0\n",
    "if a == 0:\n",
    "    print(a)\n",
    "else:\n",
    "     print(a+1)"
   ]
  },
  {
   "cell_type": "markdown",
   "metadata": {},
   "source": [
    "이중 for제어문. 첫번째는 변수 i에 1,2를 대입. 두번째는 변수 j에 3,4를 대입.\n",
    "1x3, 1x4, 2x3, 2x4. -> 3, 4, 6, 8"
   ]
  },
  {
   "cell_type": "code",
   "execution_count": 12,
   "metadata": {},
   "outputs": [
    {
     "name": "stdout",
     "output_type": "stream",
     "text": [
      "3\n",
      "4\n",
      "6\n",
      "8\n"
     ]
    }
   ],
   "source": [
    "for i in range(1, 3):\n",
    "    for j in range(3, 5):\n",
    "        print(i*j)"
   ]
  },
  {
   "cell_type": "markdown",
   "metadata": {},
   "source": [
    "변수 i에 1,2값을 넣어준다.\n",
    "변수 j에 3,4값을 넣어준다.\n",
    "j가 4이상이면 ixj를 프린트해라.\n",
    "1x3, 1x4, 2x3, 2x4 -> 중에 j가 4이상인 경우에만 프린트. 4, 8 "
   ]
  },
  {
   "cell_type": "code",
   "execution_count": 13,
   "metadata": {},
   "outputs": [
    {
     "name": "stdout",
     "output_type": "stream",
     "text": [
      "4\n",
      "8\n"
     ]
    }
   ],
   "source": [
    "for i in range(1, 3):\n",
    "    for j in range(3, 5):\n",
    "        if j >=4:\n",
    "            print(i*j)"
   ]
  },
  {
   "cell_type": "markdown",
   "metadata": {},
   "source": [
    "자료열 a의 값을 변수 i에 넣어준다. b는 이 i값들로 이루어진 자료열인데 이 때 i는 2이상이다. 따라서 b는 2, 3, 4의 값을 가지는 자료열이다"
   ]
  },
  {
   "cell_type": "code",
   "execution_count": 14,
   "metadata": {},
   "outputs": [
    {
     "data": {
      "text/plain": [
       "[2, 3, 4]"
      ]
     },
     "execution_count": 14,
     "metadata": {},
     "output_type": "execute_result"
    }
   ],
   "source": [
    "a = [1, 2, 3, 4]\n",
    "b = [i for i in a if i >=2]\n",
    "b"
   ]
  },
  {
   "cell_type": "markdown",
   "metadata": {},
   "source": [
    "자료열 a의 값을 변수 i에 넣어준다. b는 이 i값들로 이루어진 자료열인데 이 때 i 값은 문자열의 길이가 4이상인 값들이다. 따라서 b는 4글자 이상인 'green', 'blue', 'purple'을 자료값으로 갖는 자료열이다"
   ]
  },
  {
   "cell_type": "code",
   "execution_count": 15,
   "metadata": {},
   "outputs": [
    {
     "data": {
      "text/plain": [
       "['green', 'blue', 'purple']"
      ]
     },
     "execution_count": 15,
     "metadata": {},
     "output_type": "execute_result"
    }
   ],
   "source": [
    "a = ['red', 'green', 'blue', 'purple']\n",
    "b = [i for i in a if len(i) >=4]\n",
    "b"
   ]
  }
 ],
 "metadata": {
  "kernelspec": {
   "display_name": "Python 3",
   "language": "python",
   "name": "python3"
  },
  "language_info": {
   "codemirror_mode": {
    "name": "ipython",
    "version": 3
   },
   "file_extension": ".py",
   "mimetype": "text/x-python",
   "name": "python",
   "nbconvert_exporter": "python",
   "pygments_lexer": "ipython3",
   "version": "3.7.1"
  }
 },
 "nbformat": 4,
 "nbformat_minor": 2
}
