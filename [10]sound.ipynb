{
 "cells": [
  {
   "cell_type": "markdown",
   "metadata": {},
   "source": [
    "y = ax + b에서\n",
    "\n",
    "a와 b는 기계(학습해야할 부분), x와 y는 데이터\n",
    "\n",
    "여전히 x와 y는 입-출력 관계\n",
    "\n",
    "사람의 머리는 a와 b부분이 이미 계산이 되어 있음. \n",
    "\n",
    "기계한테 a, b값만 잘 구해주면 됨.\n",
    "\n",
    "information은 숫자 하나가 아니라 vector로 이루어진다."
   ]
  },
  {
   "cell_type": "code",
   "execution_count": null,
   "metadata": {},
   "outputs": [],
   "source": []
  }
 ],
 "metadata": {
  "kernelspec": {
   "display_name": "Python 3",
   "language": "python",
   "name": "python3"
  },
  "language_info": {
   "codemirror_mode": {
    "name": "ipython",
    "version": 3
   },
   "file_extension": ".py",
   "mimetype": "text/x-python",
   "name": "python",
   "nbconvert_exporter": "python",
   "pygments_lexer": "ipython3",
   "version": "3.7.1"
  }
 },
 "nbformat": 4,
 "nbformat_minor": 2
}
