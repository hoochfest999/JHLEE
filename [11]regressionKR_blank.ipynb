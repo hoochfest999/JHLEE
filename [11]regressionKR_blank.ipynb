{
 "cells": [
  {
   "cell_type": "markdown",
   "metadata": {},
   "source": [
    "행 or 열이 1인 행렬 -> vector\n",
    "\n",
    "[Input: vector] -> [Process: 행렬] -> [Output: vector]\n",
    "\n",
    "빅데이터를 활용해서 Process에 해당하는 행렬을 찾아줘야함.\n",
    "\n",
    "1. 행렬 값을 임의로 넣어줌\n",
    "\n",
    "2. 예측값과 정답사이의 간극을 점점 좁혀나감(모든 자료값들을 한바퀴 돌리는 것 epochs)\n",
    "\n",
    "3. 행렬 값이 점점 수렴함.\n",
    "\n",
    "\n",
    "* I와 O사이에 더 많은 vector층위를 더할 수 있다"
   ]
  },
  {
   "cell_type": "markdown",
   "metadata": {},
   "source": [
    "# import modules"
   ]
  },
  {
   "cell_type": "code",
   "execution_count": 7,
   "metadata": {},
   "outputs": [],
   "source": [
    "import pandas as pd\n",
    "import numpy as np\n",
    "import matplotlib.pyplot as plt\n",
    "\n",
    "from tensorflow.keras.models import Sequential\n",
    "from tensorflow.keras.layers import Dense"
   ]
  },
  {
   "cell_type": "markdown",
   "metadata": {},
   "source": [
    "# data preparation and visualization"
   ]
  },
  {
   "cell_type": "markdown",
   "metadata": {},
   "source": [
    "X와 Y에 해당하는 값을 (X,Y)로 표현\n",
    "\n",
    "일정한 패턴을 발견할 수 있다. (X가 증가함에 따라서 Y도 증가함)"
   ]
  },
  {
   "cell_type": "code",
   "execution_count": 8,
   "metadata": {},
   "outputs": [
    {
     "data": {
      "text/plain": [
       "[<matplotlib.lines.Line2D at 0x2ce6fbd85c0>]"
      ]
     },
     "execution_count": 8,
     "metadata": {},
     "output_type": "execute_result"
    },
    {
     "data": {
      "image/png": "[encoded data removed]",
      "text/plain": [
       "<Figure size 432x288 with 1 Axes>"
      ]
     },
     "metadata": {
      "needs_background": "light"
     },
     "output_type": "display_data"
    }
   ],
   "source": [
    "data =pd.read_csv('regression.csv')\n",
    "X = data['X']\n",
    "Y = data['Y']\n",
    "plt.plot(X, Y, 'o')"
   ]
  },
  {
   "cell_type": "markdown",
   "metadata": {},
   "source": [
    "# create model"
   ]
  },
  {
   "cell_type": "markdown",
   "metadata": {},
   "source": [
    "입력 vector에서 출력 vector로 가는 것이 sequential함. \n",
    "\n",
    "Dense의 1은 출력부, input_shape=1 은 입력부.\n",
    "\n",
    "입력이 한 개, 출력도 한 개\n",
    "\n",
    "y = ax + b 의 신경망을 만든 것임."
   ]
  },
  {
   "cell_type": "code",
   "execution_count": 9,
   "metadata": {
    "scrolled": false
   },
   "outputs": [],
   "source": [
    "model = Sequential()\n",
    "model.add(Dense(1, input_shape=[1]))\n",
    "model.compile(optimizer=\"sgd\", loss='mse')"
   ]
  },
  {
   "cell_type": "markdown",
   "metadata": {},
   "source": [
    "# train model"
   ]
  },
  {
   "cell_type": "code",
   "execution_count": 10,
   "metadata": {},
   "outputs": [
    {
     "name": "stdout",
     "output_type": "stream",
     "text": [
      "Epoch 1/100\n",
      "17/17 [==============================] - 0s 14ms/sample - loss: 98.6392\n",
      "Epoch 2/100\n",
      "17/17 [==============================] - 0s 146us/sample - loss: 1.1015\n",
      "Epoch 3/100\n",
      "17/17 [==============================] - 0s 146us/sample - loss: 0.1870\n",
      "Epoch 4/100\n",
      "17/17 [==============================] - 0s 175us/sample - loss: 0.1776\n",
      "Epoch 5/100\n",
      "17/17 [==============================] - 0s 146us/sample - loss: 0.1767\n",
      "Epoch 6/100\n",
      "17/17 [==============================] - 0s 146us/sample - loss: 0.1758\n",
      "Epoch 7/100\n",
      "17/17 [==============================] - 0s 125us/sample - loss: 0.1749\n",
      "Epoch 8/100\n",
      "17/17 [==============================] - 0s 117us/sample - loss: 0.1741\n",
      "Epoch 9/100\n",
      "17/17 [==============================] - 0s 204us/sample - loss: 0.1733\n",
      "Epoch 10/100\n",
      "17/17 [==============================] - 0s 199us/sample - loss: 0.1724\n",
      "Epoch 11/100\n",
      "17/17 [==============================] - 0s 233us/sample - loss: 0.1716\n",
      "Epoch 12/100\n",
      "17/17 [==============================] - 0s 175us/sample - loss: 0.1707\n",
      "Epoch 13/100\n",
      "17/17 [==============================] - 0s 175us/sample - loss: 0.1699\n",
      "Epoch 14/100\n",
      "17/17 [==============================] - 0s 175us/sample - loss: 0.1691\n",
      "Epoch 15/100\n",
      "17/17 [==============================] - 0s 175us/sample - loss: 0.1683\n",
      "Epoch 16/100\n",
      "17/17 [==============================] - 0s 204us/sample - loss: 0.1675\n",
      "Epoch 17/100\n",
      "17/17 [==============================] - 0s 175us/sample - loss: 0.1666\n",
      "Epoch 18/100\n",
      "17/17 [==============================] - 0s 175us/sample - loss: 0.1658\n",
      "Epoch 19/100\n",
      "17/17 [==============================] - 0s 185us/sample - loss: 0.1650\n",
      "Epoch 20/100\n",
      "17/17 [==============================] - 0s 146us/sample - loss: 0.1642\n",
      "Epoch 21/100\n",
      "17/17 [==============================] - 0s 117us/sample - loss: 0.1634\n",
      "Epoch 22/100\n",
      "17/17 [==============================] - 0s 113us/sample - loss: 0.1626\n",
      "Epoch 23/100\n",
      "17/17 [==============================] - 0s 205us/sample - loss: 0.1619\n",
      "Epoch 24/100\n",
      "17/17 [==============================] - 0s 129us/sample - loss: 0.1611\n",
      "Epoch 25/100\n",
      "17/17 [==============================] - 0s 117us/sample - loss: 0.1603\n",
      "Epoch 26/100\n",
      "17/17 [==============================] - 0s 117us/sample - loss: 0.1595\n",
      "Epoch 27/100\n",
      "17/17 [==============================] - 0s 175us/sample - loss: 0.1587\n",
      "Epoch 28/100\n",
      "17/17 [==============================] - 0s 168us/sample - loss: 0.1580\n",
      "Epoch 29/100\n",
      "17/17 [==============================] - 0s 175us/sample - loss: 0.1572\n",
      "Epoch 30/100\n",
      "17/17 [==============================] - 0s 117us/sample - loss: 0.1564\n",
      "Epoch 31/100\n",
      "17/17 [==============================] - 0s 204us/sample - loss: 0.1557\n",
      "Epoch 32/100\n",
      "17/17 [==============================] - 0s 175us/sample - loss: 0.1549\n",
      "Epoch 33/100\n",
      "17/17 [==============================] - 0s 204us/sample - loss: 0.1542\n",
      "Epoch 34/100\n",
      "17/17 [==============================] - 0s 116us/sample - loss: 0.1534\n",
      "Epoch 35/100\n",
      "17/17 [==============================] - 0s 175us/sample - loss: 0.1527\n",
      "Epoch 36/100\n",
      "17/17 [==============================] - 0s 117us/sample - loss: 0.1519\n",
      "Epoch 37/100\n",
      "17/17 [==============================] - 0s 117us/sample - loss: 0.1512\n",
      "Epoch 38/100\n",
      "17/17 [==============================] - 0s 175us/sample - loss: 0.1505\n",
      "Epoch 39/100\n",
      "17/17 [==============================] - 0s 117us/sample - loss: 0.1497\n",
      "Epoch 40/100\n",
      "17/17 [==============================] - 0s 204us/sample - loss: 0.1490\n",
      "Epoch 41/100\n",
      "17/17 [==============================] - 0s 175us/sample - loss: 0.1483\n",
      "Epoch 42/100\n",
      "17/17 [==============================] - 0s 175us/sample - loss: 0.1476\n",
      "Epoch 43/100\n",
      "17/17 [==============================] - 0s 145us/sample - loss: 0.1469\n",
      "Epoch 44/100\n",
      "17/17 [==============================] - 0s 175us/sample - loss: 0.1461\n",
      "Epoch 45/100\n",
      "17/17 [==============================] - 0s 175us/sample - loss: 0.1454\n",
      "Epoch 46/100\n",
      "17/17 [==============================] - 0s 175us/sample - loss: 0.1447\n",
      "Epoch 47/100\n",
      "17/17 [==============================] - 0s 204us/sample - loss: 0.1440\n",
      "Epoch 48/100\n",
      "17/17 [==============================] - 0s 175us/sample - loss: 0.1433\n",
      "Epoch 49/100\n",
      "17/17 [==============================] - 0s 117us/sample - loss: 0.1426\n",
      "Epoch 50/100\n",
      "17/17 [==============================] - 0s 204us/sample - loss: 0.1419\n",
      "Epoch 51/100\n",
      "17/17 [==============================] - 0s 204us/sample - loss: 0.1413\n",
      "Epoch 52/100\n",
      "17/17 [==============================] - 0s 146us/sample - loss: 0.1406\n",
      "Epoch 53/100\n",
      "17/17 [==============================] - 0s 97us/sample - loss: 0.1399\n",
      "Epoch 54/100\n",
      "17/17 [==============================] - 0s 117us/sample - loss: 0.1392\n",
      "Epoch 55/100\n",
      "17/17 [==============================] - 0s 146us/sample - loss: 0.1385\n",
      "Epoch 56/100\n",
      "17/17 [==============================] - 0s 117us/sample - loss: 0.1379\n",
      "Epoch 57/100\n",
      "17/17 [==============================] - 0s 175us/sample - loss: 0.1372\n",
      "Epoch 58/100\n",
      "17/17 [==============================] - 0s 233us/sample - loss: 0.1365\n",
      "Epoch 59/100\n",
      "17/17 [==============================] - 0s 146us/sample - loss: 0.1359\n",
      "Epoch 60/100\n",
      "17/17 [==============================] - 0s 152us/sample - loss: 0.1352\n",
      "Epoch 61/100\n",
      "17/17 [==============================] - 0s 234us/sample - loss: 0.1346\n",
      "Epoch 62/100\n",
      "17/17 [==============================] - 0s 146us/sample - loss: 0.1339\n",
      "Epoch 63/100\n",
      "17/17 [==============================] - 0s 146us/sample - loss: 0.1333\n",
      "Epoch 64/100\n",
      "17/17 [==============================] - 0s 146us/sample - loss: 0.1326\n",
      "Epoch 65/100\n",
      "17/17 [==============================] - 0s 175us/sample - loss: 0.1320\n",
      "Epoch 66/100\n",
      "17/17 [==============================] - 0s 234us/sample - loss: 0.1313\n",
      "Epoch 67/100\n",
      "17/17 [==============================] - 0s 292us/sample - loss: 0.1307\n",
      "Epoch 68/100\n",
      "17/17 [==============================] - 0s 175us/sample - loss: 0.1301\n",
      "Epoch 69/100\n",
      "17/17 [==============================] - 0s 117us/sample - loss: 0.1294\n",
      "Epoch 70/100\n",
      "17/17 [==============================] - 0s 146us/sample - loss: 0.1288\n",
      "Epoch 71/100\n",
      "17/17 [==============================] - 0s 146us/sample - loss: 0.1282\n",
      "Epoch 72/100\n",
      "17/17 [==============================] - 0s 146us/sample - loss: 0.1275\n",
      "Epoch 73/100\n",
      "17/17 [==============================] - 0s 117us/sample - loss: 0.1269\n",
      "Epoch 74/100\n",
      "17/17 [==============================] - 0s 175us/sample - loss: 0.1263\n",
      "Epoch 75/100\n",
      "17/17 [==============================] - 0s 172us/sample - loss: 0.1257\n",
      "Epoch 76/100\n",
      "17/17 [==============================] - 0s 175us/sample - loss: 0.1251\n",
      "Epoch 77/100\n",
      "17/17 [==============================] - 0s 140us/sample - loss: 0.1245\n",
      "Epoch 78/100\n",
      "17/17 [==============================] - 0s 211us/sample - loss: 0.1239\n",
      "Epoch 79/100\n",
      "17/17 [==============================] - 0s 146us/sample - loss: 0.1233\n",
      "Epoch 80/100\n",
      "17/17 [==============================] - 0s 117us/sample - loss: 0.1227\n",
      "Epoch 81/100\n",
      "17/17 [==============================] - 0s 153us/sample - loss: 0.1221\n",
      "Epoch 82/100\n",
      "17/17 [==============================] - 0s 204us/sample - loss: 0.1215\n",
      "Epoch 83/100\n",
      "17/17 [==============================] - 0s 146us/sample - loss: 0.1209\n",
      "Epoch 84/100\n",
      "17/17 [==============================] - 0s 204us/sample - loss: 0.1203\n",
      "Epoch 85/100\n",
      "17/17 [==============================] - 0s 117us/sample - loss: 0.1197\n",
      "Epoch 86/100\n",
      "17/17 [==============================] - 0s 117us/sample - loss: 0.1192\n",
      "Epoch 87/100\n",
      "17/17 [==============================] - 0s 117us/sample - loss: 0.1186\n",
      "Epoch 88/100\n",
      "17/17 [==============================] - 0s 117us/sample - loss: 0.1180\n",
      "Epoch 89/100\n",
      "17/17 [==============================] - 0s 146us/sample - loss: 0.1174\n",
      "Epoch 90/100\n",
      "17/17 [==============================] - 0s 117us/sample - loss: 0.1169\n",
      "Epoch 91/100\n",
      "17/17 [==============================] - 0s 146us/sample - loss: 0.1163\n",
      "Epoch 92/100\n",
      "17/17 [==============================] - 0s 146us/sample - loss: 0.1157\n",
      "Epoch 93/100\n",
      "17/17 [==============================] - 0s 199us/sample - loss: 0.1152\n",
      "Epoch 94/100\n",
      "17/17 [==============================] - 0s 117us/sample - loss: 0.1146\n",
      "Epoch 95/100\n",
      "17/17 [==============================] - 0s 175us/sample - loss: 0.1141\n",
      "Epoch 96/100\n",
      "17/17 [==============================] - 0s 117us/sample - loss: 0.1135\n",
      "Epoch 97/100\n",
      "17/17 [==============================] - 0s 117us/sample - loss: 0.1130\n"
     ]
    },
    {
     "name": "stdout",
     "output_type": "stream",
     "text": [
      "Epoch 98/100\n",
      "17/17 [==============================] - 0s 146us/sample - loss: 0.1124\n",
      "Epoch 99/100\n",
      "17/17 [==============================] - 0s 117us/sample - loss: 0.1119\n",
      "Epoch 100/100\n",
      "17/17 [==============================] - 0s 146us/sample - loss: 0.1113\n"
     ]
    },
    {
     "data": {
      "text/plain": [
       "<tensorflow.python.keras.callbacks.History at 0x2ce70c18b38>"
      ]
     },
     "execution_count": 10,
     "metadata": {},
     "output_type": "execute_result"
    }
   ],
   "source": [
    "model.fit([X, Y], epochs = 100)"
   ]
  },
  {
   "cell_type": "markdown",
   "metadata": {},
   "source": [
    "# model prediction"
   ]
  },
  {
   "cell_type": "code",
   "execution_count": 11,
   "metadata": {
    "scrolled": true
   },
   "outputs": [
    {
     "data": {
      "image/png": "[encoded data removed]",
      "text/plain": [
       "<Figure size 432x288 with 1 Axes>"
      ]
     },
     "metadata": {
      "needs_background": "light"
     },
     "output_type": "display_data"
    }
   ],
   "source": [
    "x = [1, 2, 3, 4, 5, 6, 7, 8, 9, 10]\n",
    "y = model.predict(x)\n",
    "plt.plot(X, Y, '.')\n",
    "plt.plot(x,y, 'x')\n",
    "plt.show()"
   ]
  },
  {
   "cell_type": "markdown",
   "metadata": {},
   "source": [
    "# what are a and b in y = ax + b?"
   ]
  },
  {
   "cell_type": "code",
   "execution_count": 12,
   "metadata": {
    "scrolled": false
   },
   "outputs": [
    {
     "name": "stdout",
     "output_type": "stream",
     "text": [
      "[array([[0.1334293]], dtype=float32), array([0.0540463], dtype=float32)]\n"
     ]
    }
   ],
   "source": [
    "weight = model.layers[0].get_weights()\n",
    "print(weight)"
   ]
  },
  {
   "cell_type": "code",
   "execution_count": null,
   "metadata": {},
   "outputs": [],
   "source": []
  }
 ],
 "metadata": {
  "kernelspec": {
   "display_name": "Python 3",
   "language": "python",
   "name": "python3"
  },
  "language_info": {
   "codemirror_mode": {
    "name": "ipython",
    "version": 3
   },
   "file_extension": ".py",
   "mimetype": "text/x-python",
   "name": "python",
   "nbconvert_exporter": "python",
   "pygments_lexer": "ipython3",
   "version": "3.7.3"
  }
 },
 "nbformat": 4,
 "nbformat_minor": 1
}
